{
 "cells": [
  {
   "cell_type": "code",
   "execution_count": 4,
   "id": "30c22ae5",
   "metadata": {},
   "outputs": [],
   "source": [
    "import pandas as pd\n",
    "                                                "
   ]
  },
  {
   "cell_type": "code",
   "execution_count": 5,
   "id": "5bdae34e",
   "metadata": {},
   "outputs": [
    {
     "name": "stdout",
     "output_type": "stream",
     "text": [
      "     Symbol       Date     Open     High      Low    Close Percent Change  \\\n",
      "0     NEPSE   2/1/2022  2875.74  2897.18  2855.95  2891.30           0.67   \n",
      "1     NEPSE  1/31/2022  2895.77  2909.13  2860.70  2871.05           -0.5   \n",
      "2     NEPSE  1/30/2022  2805.01  2885.62  2805.01  2885.53            3.8   \n",
      "3     NEPSE  1/27/2022  2778.89  2804.07  2776.74  2779.98           0.12   \n",
      "4     NEPSE  1/26/2022  2817.17  2819.74  2760.88  2776.65          -1.36   \n",
      "...     ...        ...      ...      ...      ...      ...            ...   \n",
      "3434  NEPSE  1/21/2007   529.81   529.81   529.81   529.81              0   \n",
      "3435  NEPSE  1/18/2007   535.94   535.94   535.94   535.94              0   \n",
      "3436  NEPSE  1/17/2007   538.53   538.53   538.53   538.53              0   \n",
      "3437  NEPSE  1/15/2007   538.36   538.36   538.36   538.36              0   \n",
      "3438  NEPSE  1/14/2007   537.09   537.09   537.09   537.09              0   \n",
      "\n",
      "            Volume  \n",
      "0     6.574842e+09  \n",
      "1     5.154178e+09  \n",
      "2     6.324274e+09  \n",
      "3     3.343414e+09  \n",
      "4     4.313154e+09  \n",
      "...            ...  \n",
      "3434  0.000000e+00  \n",
      "3435  0.000000e+00  \n",
      "3436  0.000000e+00  \n",
      "3437  0.000000e+00  \n",
      "3438  0.000000e+00  \n",
      "\n",
      "[3439 rows x 8 columns]\n"
     ]
    }
   ],
   "source": [
    "df1=pd.read_csv(\"C:\\\\Users\\\\Hp\\\\Documents\\\\FYP\\\\Data\\\\nepse.csv\")\n",
    "print(df1)"
   ]
  },
  {
   "cell_type": "code",
   "execution_count": 6,
   "id": "0782db8f",
   "metadata": {},
   "outputs": [
    {
     "name": "stdout",
     "output_type": "stream",
     "text": [
      "     Symbol        Date   Open   High    Low  Close Percent Change  Volume\n",
      "0      CHCL  2022-02-23  500.3  518.0  500.2  510.0           0.00   30070\n",
      "1      CHCL  2022-02-22  516.0  523.0  508.0  510.0          -0.97   31378\n",
      "2      CHCL  2022-02-21  509.0  520.0  500.0  515.0           3.02   22051\n",
      "3      CHCL  2022-02-20  498.5  509.0  489.0  499.9          -1.65   33658\n",
      "4      CHCL  2022-02-17  507.0  512.0  506.1  508.3           0.26   14120\n",
      "...     ...         ...    ...    ...    ...    ...            ...     ...\n",
      "2301   CHCL  2012-01-05  619.0  614.0  604.0  613.0          -0.97    1180\n",
      "2302   CHCL  2012-01-04  614.0  619.0  600.0  619.0           0.81    5290\n",
      "2303   CHCL  2012-01-03  610.0  620.0  595.0  614.0           0.66    4810\n",
      "2304   CHCL  2012-01-02  602.0  620.0  603.0  610.0           1.33    1110\n",
      "2305   CHCL  2012-01-01  601.0  630.0  597.0  602.0           0.17    2940\n",
      "\n",
      "[2306 rows x 8 columns]\n"
     ]
    }
   ],
   "source": [
    "df2=pd.read_csv(\"C:\\\\Users\\\\Hp\\\\Documents\\\\FYP\\\\Data\\\\nepsealpha_export_price_CHCL_1995-02-04_2022-02-24.csv\")\n",
    "print(df2)"
   ]
  },
  {
   "cell_type": "code",
   "execution_count": 7,
   "id": "c0bf43ca",
   "metadata": {},
   "outputs": [
    {
     "name": "stdout",
     "output_type": "stream",
     "text": [
      "     Symbol        Date    Open    High     Low   Close Percent Change  Volume\n",
      "0     FOWAD  2022-02-23  2360.0  2360.0  2320.0  2320.0          -1.28    1989\n",
      "1     FOWAD  2022-02-22  2374.0  2374.5  2330.0  2350.0           0.51    4690\n",
      "2     FOWAD  2022-02-21  2359.9  2360.9  2311.0  2338.0           0.86    2677\n",
      "3     FOWAD  2022-02-20  2322.6  2350.0  2287.0  2318.0          -2.19    7666\n",
      "4     FOWAD  2022-02-17  2365.0  2389.9  2353.0  2370.0           0.21    2407\n",
      "...     ...         ...     ...     ...     ...     ...            ...     ...\n",
      "1056  FOWAD  2017-06-11  1192.0  1215.0  1192.0  1239.0           3.93      26\n",
      "1057  FOWAD  2017-06-07  1125.0  1169.0  1125.0  1169.0           5.98      30\n",
      "1058  FOWAD  2017-06-06     0.0     0.0     0.0  1125.0           0.00       9\n",
      "1059  FOWAD  2017-06-05  1103.0  1103.0  1103.0  1125.0           4.95      30\n",
      "1060  FOWAD  2017-05-21  1051.0  1051.0  1051.0  1051.0           0.00     100\n",
      "\n",
      "[1061 rows x 8 columns]\n"
     ]
    }
   ],
   "source": [
    "df3=pd.read_csv(\"C:\\\\Users\\\\Hp\\\\Documents\\\\FYP\\\\Data\\\\nepsealpha_export_price_FOWAD_1995-02-04_2022-02-24.csv\")\n",
    "print(df3)"
   ]
  },
  {
   "cell_type": "code",
   "execution_count": 8,
   "id": "068d3cc9",
   "metadata": {},
   "outputs": [
    {
     "name": "stdout",
     "output_type": "stream",
     "text": [
      "     Symbol        Date    Open    High     Low   Close Percent Change  Volume\n",
      "0       HDL  2022-02-23  4170.0  4215.0  4120.0  4136.1          -0.72   23081\n",
      "1       HDL  2022-02-22  4200.0  4215.0  4160.1  4166.0          -0.14   24890\n",
      "2       HDL  2022-02-21  4150.0  4200.0  4150.0  4172.0           0.36   17959\n",
      "3       HDL  2022-02-20  4170.0  4224.0  4086.7  4157.0          -2.30   36960\n",
      "4       HDL  2022-02-17  4300.0  4300.0  4240.0  4255.0          -1.00   28638\n",
      "...     ...         ...     ...     ...     ...     ...            ...     ...\n",
      "1148    HDL  2012-07-16   100.0   100.0   100.0   100.0           0.00      50\n",
      "1149    HDL  2012-07-08   100.0   100.0   100.0   100.0           0.00   13810\n",
      "1150    HDL  2012-04-30    99.0   100.0    98.0   100.0           1.01    5730\n",
      "1151    HDL  2012-03-20    99.0    99.0    99.0    99.0           0.00      40\n",
      "1152    HDL  2012-02-07   100.0    99.0    99.0    99.0          -1.00      20\n",
      "\n",
      "[1153 rows x 8 columns]\n"
     ]
    }
   ],
   "source": [
    "df4=pd.read_csv(\"C:\\\\Users\\\\Hp\\\\Documents\\\\FYP\\\\Data\\\\nepsealpha_export_price_HDL_1995-02-04_2022-02-24.csv\")\n",
    "print(df4)"
   ]
  },
  {
   "cell_type": "code",
   "execution_count": 9,
   "id": "0a2bb6d4",
   "metadata": {},
   "outputs": [
    {
     "name": "stdout",
     "output_type": "stream",
     "text": [
      "     Symbol        Date    Open    High     Low   Close Percent Change  Volume\n",
      "0     NABIL  2022-02-23  1084.0  1085.0  1065.0  1067.5          -0.28   29641\n",
      "1     NABIL  2022-02-22  1080.0  1080.0  1069.0  1070.5           0.33   41743\n",
      "2     NABIL  2022-02-21  1070.0  1073.0  1063.0  1067.0           0.47   39297\n",
      "3     NABIL  2022-02-20  1070.0  1075.0  1045.0  1062.0          -1.58   61489\n",
      "4     NABIL  2022-02-17  1081.0  1094.0  1070.0  1079.0          -0.09   34444\n",
      "...     ...         ...     ...     ...     ...     ...            ...     ...\n",
      "2295  NABIL  2012-01-05   865.0   875.0   858.0   858.0          -0.81     121\n",
      "2296  NABIL  2012-01-04   892.0   875.0   842.0   865.0          -3.03     490\n",
      "2297  NABIL  2012-01-03   900.0   916.0   892.0   892.0          -0.89    2653\n",
      "2298  NABIL  2012-01-02   879.0   913.0   882.0   900.0           2.39    1002\n",
      "2299  NABIL  2012-01-01   873.0   879.0   851.0   879.0           0.69     799\n",
      "\n",
      "[2300 rows x 8 columns]\n"
     ]
    }
   ],
   "source": [
    "df5=pd.read_csv(\"C:\\\\Users\\\\Hp\\\\Documents\\\\FYP\\\\Data\\\\nepsealpha_export_price_NABIL_1995-02-04_2022-02-24.csv\")\n",
    "print(df5)"
   ]
  },
  {
   "cell_type": "code",
   "execution_count": 10,
   "id": "19bb2595",
   "metadata": {},
   "outputs": [
    {
     "name": "stdout",
     "output_type": "stream",
     "text": [
      "     Symbol        Date   Open   High    Low  Close Percent Change  Volume\n",
      "0      NICA  2022-02-23  810.0  810.0  801.0  804.0          -0.50   26347\n",
      "1      NICA  2022-02-22  806.0  815.0  802.0  808.0           0.24   37501\n",
      "2      NICA  2022-02-21  808.0  810.0  798.0  806.1           0.37   30102\n",
      "3      NICA  2022-02-20  799.7  812.0  790.0  803.1          -1.58   58816\n",
      "4      NICA  2022-02-17  805.0  816.0  804.0  816.0           1.12   55936\n",
      "...     ...         ...    ...    ...    ...    ...            ...     ...\n",
      "1944   NICA  2013-07-21  669.0  735.0  682.0  735.0           9.87   12269\n",
      "1945   NICA  2013-07-18  609.0  669.0  621.0  669.0           9.85    1706\n",
      "1946   NICA  2013-07-17  554.0  609.0  565.0  609.0           9.93     150\n",
      "1947   NICA  2013-07-15  504.0  554.0  529.0  554.0           9.92      40\n",
      "1948   NICA  2013-07-14  750.0  504.0  477.0  504.0         -32.80      40\n",
      "\n",
      "[1949 rows x 8 columns]\n"
     ]
    }
   ],
   "source": [
    "df6=pd.read_csv(\"C:\\\\Users\\\\Hp\\\\Documents\\\\FYP\\\\Data\\\\nepsealpha_export_price_NICA_1995-02-04_2022-02-24.csv\")\n",
    "print(df6)"
   ]
  },
  {
   "cell_type": "code",
   "execution_count": 11,
   "id": "119576e9",
   "metadata": {},
   "outputs": [
    {
     "name": "stdout",
     "output_type": "stream",
     "text": [
      "     Symbol        Date    Open    High     Low   Close Percent Change  Volume\n",
      "0      NLIC  2022-02-23  1360.0  1360.0  1330.1  1334.0          -0.12   17319\n",
      "1      NLIC  2022-02-22  1359.0  1359.0  1335.0  1335.6          -0.10   34162\n",
      "2      NLIC  2022-02-21  1342.0  1347.0  1330.0  1337.0          -0.07   33373\n",
      "3      NLIC  2022-02-20  1347.0  1361.0  1302.0  1338.0          -2.62   61116\n",
      "4      NLIC  2022-02-17  1371.0  1380.0  1366.0  1374.0           0.00   30149\n",
      "...     ...         ...     ...     ...     ...     ...            ...     ...\n",
      "2203   NLIC  2012-01-17   627.0   627.0   615.0   627.0           0.00      80\n",
      "2204   NLIC  2012-01-16   615.0   627.0   627.0   627.0           1.95     200\n",
      "2205   NLIC  2012-01-12   569.0   615.0   580.0   615.0           8.08     250\n",
      "2206   NLIC  2012-01-05   558.0   569.0   569.0   569.0           1.97     375\n",
      "2207   NLIC  2012-01-04   600.0   589.0   558.0   558.0          -7.00    3045\n",
      "\n",
      "[2208 rows x 8 columns]\n"
     ]
    }
   ],
   "source": [
    "df7=pd.read_csv(\"C:\\\\Users\\\\Hp\\\\Documents\\\\FYP\\\\Data\\\\nepsealpha_export_price_NLIC_1995-02-04_2022-02-24.csv\")\n",
    "print(df7)"
   ]
  },
  {
   "cell_type": "code",
   "execution_count": 12,
   "id": "2134ed40",
   "metadata": {},
   "outputs": [
    {
     "name": "stdout",
     "output_type": "stream",
     "text": [
      "     Symbol        Date    Open    High     Low   Close Percent Change  Volume\n",
      "0       SCB  2022-02-23   476.0   482.0   475.0   479.0           0.63   18738\n",
      "1       SCB  2022-02-22   481.0   485.0   475.0   476.0           0.74   12049\n",
      "2       SCB  2022-02-21   484.0   484.0   470.0   472.5          -0.78   14688\n",
      "3       SCB  2022-02-20   473.0   482.8   464.0   476.2          -1.31    9988\n",
      "4       SCB  2022-02-17   480.0   496.0   480.0   482.5          -0.92   14477\n",
      "...     ...         ...     ...     ...     ...     ...            ...     ...\n",
      "2299    SCB  2012-01-05  1375.0  1384.0  1350.0  1384.0           0.65    1204\n",
      "2300    SCB  2012-01-04  1390.0  1385.0  1349.0  1375.0          -1.08     657\n",
      "2301    SCB  2012-01-03  1390.0  1427.0  1390.0  1390.0           0.00    1351\n",
      "2302    SCB  2012-01-02  1355.0  1400.0  1382.0  1390.0           2.58     455\n",
      "2303    SCB  2012-01-01  1340.0  1370.0  1340.0  1355.0           1.12    1155\n",
      "\n",
      "[2304 rows x 8 columns]\n"
     ]
    }
   ],
   "source": [
    "df8=pd.read_csv(\"C:\\\\Users\\\\Hp\\\\Documents\\\\FYP\\\\Data\\\\nepsealpha_export_price_SCB_1995-02-04_2022-02-24.csv\")\n",
    "print(df8)"
   ]
  },
  {
   "cell_type": "code",
   "execution_count": 13,
   "id": "bad22680",
   "metadata": {},
   "outputs": [
    {
     "name": "stdout",
     "output_type": "stream",
     "text": [
      "(2065, 8)\n"
     ]
    }
   ],
   "source": [
    "d1=pd.read_csv(\"C:\\\\Users\\\\Hp\\\\Documents\\\\FYP\\\\Data\\\\nepsealpha_export_price_CBBL_2010-03-13_2022-04-02.csv\")\n",
    "print(d1.shape)"
   ]
  },
  {
   "cell_type": "code",
   "execution_count": 14,
   "id": "631f81a1",
   "metadata": {},
   "outputs": [
    {
     "name": "stdout",
     "output_type": "stream",
     "text": [
      "(1017, 8)\n",
      "     Symbol        Date     Open     High      Low    Close Percent Change  \\\n",
      "0       UNL  2022-03-31  19100.0  19100.0  19100.0  19100.0           0.52   \n",
      "1       UNL  2022-03-30  19002.0  19002.0  19002.0  19002.0          -1.95   \n",
      "2       UNL  2022-03-27  19379.9  19379.9  19379.9  19379.9           2.00   \n",
      "3       UNL  2022-03-24  19200.0  19200.0  19000.0  19000.0          -0.52   \n",
      "4       UNL  2022-03-23  19105.0  19105.0  19100.0  19100.0          -1.80   \n",
      "...     ...         ...      ...      ...      ...      ...            ...   \n",
      "1012    UNL  2012-02-08   6269.0   6144.0   5669.0   5669.0          -9.57   \n",
      "1013    UNL  2012-01-12   6148.0   6269.0   6148.0   6269.0           1.97   \n",
      "1014    UNL  2012-01-05   6273.0   6148.0   6148.0   6148.0          -1.99   \n",
      "1015    UNL  2012-01-04   6150.0   6273.0   6273.0   6273.0           2.00   \n",
      "1016    UNL  2012-01-03   6273.0   6150.0   6150.0   6150.0          -1.96   \n",
      "\n",
      "      Volume  \n",
      "0         10  \n",
      "1         10  \n",
      "2         10  \n",
      "3         20  \n",
      "4         80  \n",
      "...      ...  \n",
      "1012     150  \n",
      "1013      30  \n",
      "1014      10  \n",
      "1015     100  \n",
      "1016      10  \n",
      "\n",
      "[1017 rows x 8 columns]\n"
     ]
    }
   ],
   "source": [
    "d2=pd.read_csv(\"C:\\\\Users\\\\Hp\\\\Documents\\\\FYP\\\\Data\\\\nepsealpha_export_price_UNL_2010-03-13_2022-04-02.csv\")\n",
    "print(d2.shape)\n",
    "print(d2)"
   ]
  },
  {
   "cell_type": "code",
   "execution_count": 15,
   "id": "cac2ca11",
   "metadata": {},
   "outputs": [
    {
     "name": "stdout",
     "output_type": "stream",
     "text": [
      "(1824, 8)\n"
     ]
    }
   ],
   "source": [
    "d3=pd.read_csv(\"C:\\\\Users\\\\Hp\\\\Documents\\\\FYP\\\\Data\\\\nepsealpha_export_price_HGI_2010-03-13_2022-04-02.csv\")\n",
    "print(d3.shape)"
   ]
  },
  {
   "cell_type": "code",
   "execution_count": 16,
   "id": "6de83e1d",
   "metadata": {},
   "outputs": [
    {
     "name": "stdout",
     "output_type": "stream",
     "text": [
      "(2324, 8)\n",
      "     Symbol        Date   Open   High    Low  Close Percent Change  Volume\n",
      "0      ADBL  2022-03-31  387.0  388.0  383.0  384.1          -0.23   16460\n",
      "1      ADBL  2022-03-30  383.0  388.0  381.0  385.0           0.29   19953\n",
      "2      ADBL  2022-03-29  381.0  389.6  379.0  383.9          -0.54   18020\n",
      "3      ADBL  2022-03-28  385.6  390.0  384.0  386.0          -0.54   22843\n",
      "4      ADBL  2022-03-27  393.0  394.0  388.0  388.1          -1.25   20877\n",
      "...     ...         ...    ...    ...    ...    ...            ...     ...\n",
      "2319   ADBL  2012-01-05  114.0  114.0  112.0  113.0          -0.88     775\n",
      "2320   ADBL  2012-01-04  115.0  115.0  113.0  114.0          -0.87    3220\n",
      "2321   ADBL  2012-01-03  118.0  116.0  114.0  115.0          -2.54     490\n",
      "2322   ADBL  2012-01-02  114.0  118.0  115.0  118.0           3.51     551\n",
      "2323   ADBL  2012-01-01  115.0  115.0  113.0  114.0          -0.87    1111\n",
      "\n",
      "[2324 rows x 8 columns]\n"
     ]
    }
   ],
   "source": [
    "d4=pd.read_csv(\"C:\\\\Users\\\\Hp\\\\Documents\\\\FYP\\\\Data\\\\nepsealpha_export_price_ADBL_2010-03-13_2022-04-02.csv\")\n",
    "print(d4.shape)\n",
    "print(d4)"
   ]
  },
  {
   "cell_type": "code",
   "execution_count": 17,
   "id": "6d58043f",
   "metadata": {},
   "outputs": [],
   "source": [
    "# d5=pd.read_csv(\"C:\\\\Users\\\\Hp\\\\Documents\\\\FYP\\\\Data\\\\nepsealpha_export_price_BNT_2010-03-13_2018-02-01.csv\")\n",
    "# print(d5.shape)"
   ]
  },
  {
   "cell_type": "code",
   "execution_count": 18,
   "id": "c0824e43",
   "metadata": {},
   "outputs": [
    {
     "name": "stdout",
     "output_type": "stream",
     "text": [
      "(2065, 8)\n",
      "     Symbol        Date    Open    High     Low   Close Percent Change  Volume\n",
      "0      CBBL  2022-03-31  1230.0  1250.0  1210.0  1210.0          -1.31    5646\n",
      "1      CBBL  2022-03-30  1225.0  1230.0  1215.0  1226.0           0.49    4757\n",
      "2      CBBL  2022-03-29  1245.0  1245.0  1217.0  1220.0          -0.41    3440\n",
      "3      CBBL  2022-03-28  1230.0  1235.0  1224.1  1225.0          -0.81    3952\n",
      "4      CBBL  2022-03-27  1282.0  1282.0  1235.0  1235.0          -1.75    5308\n",
      "...     ...         ...     ...     ...     ...     ...            ...     ...\n",
      "2060   CBBL  2012-02-06   323.0   320.0   320.0   320.0          -0.93      20\n",
      "2061   CBBL  2012-01-25   322.0   323.0   323.0   323.0           0.31     977\n",
      "2062   CBBL  2012-01-18   328.0   322.0   322.0   322.0          -1.83      21\n",
      "2063   CBBL  2012-01-11   340.0   334.0   328.0   328.0          -3.53      30\n",
      "2064   CBBL  2012-01-05   346.0   340.0   340.0   340.0          -1.73      20\n",
      "\n",
      "[2065 rows x 8 columns]\n"
     ]
    }
   ],
   "source": [
    "d6=pd.read_csv(\"C:\\\\Users\\\\Hp\\\\Documents\\\\FYP\\\\Data\\\\nepsealpha_export_price_CBBL_2010-03-13_2022-04-02.csv\")\n",
    "print(d6.shape)\n",
    "print(d6)"
   ]
  },
  {
   "cell_type": "code",
   "execution_count": 19,
   "id": "e2f1c5a9",
   "metadata": {},
   "outputs": [
    {
     "name": "stdout",
     "output_type": "stream",
     "text": [
      "(2038, 8)\n"
     ]
    }
   ],
   "source": [
    "d7=pd.read_csv(\"C:\\\\Users\\\\Hp\\\\Documents\\\\FYP\\\\Data\\\\nepsealpha_export_price_GBBL_2010-03-13_2022-04-02.csv\")\n",
    "print(d7.shape)"
   ]
  },
  {
   "cell_type": "code",
   "execution_count": 20,
   "id": "6bf2df49",
   "metadata": {},
   "outputs": [
    {
     "name": "stdout",
     "output_type": "stream",
     "text": [
      "(2312, 8)\n"
     ]
    }
   ],
   "source": [
    "d8=pd.read_csv(\"C:\\\\Users\\\\Hp\\\\Documents\\\\FYP\\\\Data\\\\nepsealpha_export_price_HOTELS_2010-03-13_2022-04-02.csv\")\n",
    "print(d8.shape)"
   ]
  },
  {
   "cell_type": "code",
   "execution_count": 21,
   "id": "8992dec0",
   "metadata": {},
   "outputs": [
    {
     "name": "stdout",
     "output_type": "stream",
     "text": [
      "(2176, 8)\n"
     ]
    }
   ],
   "source": [
    "d9=pd.read_csv(\"C:\\\\Users\\\\Hp\\\\Documents\\\\FYP\\\\Data\\\\nepsealpha_export_price_LICN_2010-03-13_2022-04-02.csv\")\n",
    "print(d9.shape)"
   ]
  },
  {
   "cell_type": "code",
   "execution_count": 57,
   "id": "e945b6aa",
   "metadata": {},
   "outputs": [
    {
     "name": "stdout",
     "output_type": "stream",
     "text": [
      "(1154, 8)\n"
     ]
    }
   ],
   "source": [
    "d10=pd.read_csv(\"C:\\\\Users\\\\Hp\\\\Documents\\\\FYP\\\\Data\\\\nepsealpha_export_price_NBL_2010-03-13_2018-02-01.csv\")\n",
    "print(d10.shape)\n",
    "# print(d10)"
   ]
  },
  {
   "cell_type": "code",
   "execution_count": 37,
   "id": "b8ce8241",
   "metadata": {},
   "outputs": [
    {
     "name": "stdout",
     "output_type": "stream",
     "text": [
      "(5745, 8)\n"
     ]
    }
   ],
   "source": [
    "df9=pd.merge(df1,df2,how=\"outer\")\n",
    "# ,df3,df4,df5,df6,df7,df8)\n",
    "print(df9.shape)\n",
    "# print(df.loc[1204])"
   ]
  },
  {
   "cell_type": "code",
   "execution_count": 38,
   "id": "03f6e3da",
   "metadata": {},
   "outputs": [
    {
     "name": "stdout",
     "output_type": "stream",
     "text": [
      "(6806, 8)\n"
     ]
    }
   ],
   "source": [
    "df10=pd.merge(df9,df3,how='outer')\n",
    "print(df10.shape)"
   ]
  },
  {
   "cell_type": "code",
   "execution_count": 39,
   "id": "dc030bdd",
   "metadata": {},
   "outputs": [
    {
     "name": "stdout",
     "output_type": "stream",
     "text": [
      "(7959, 8)\n"
     ]
    }
   ],
   "source": [
    "df11=pd.merge(df10,df4,how='outer')\n",
    "print(df11.shape)"
   ]
  },
  {
   "cell_type": "code",
   "execution_count": 40,
   "id": "f401d1ff",
   "metadata": {},
   "outputs": [
    {
     "name": "stdout",
     "output_type": "stream",
     "text": [
      "(10259, 8)\n"
     ]
    }
   ],
   "source": [
    "df12=pd.merge(df11,df5,how='outer')\n",
    "print(df12.shape)"
   ]
  },
  {
   "cell_type": "code",
   "execution_count": 41,
   "id": "7d1067d9",
   "metadata": {},
   "outputs": [
    {
     "name": "stdout",
     "output_type": "stream",
     "text": [
      "(12208, 8)\n"
     ]
    }
   ],
   "source": [
    "df13=pd.merge(df12,df6,how='outer')\n",
    "print(df13.shape)"
   ]
  },
  {
   "cell_type": "code",
   "execution_count": 42,
   "id": "23297d7a",
   "metadata": {},
   "outputs": [
    {
     "name": "stdout",
     "output_type": "stream",
     "text": [
      "(14416, 8)\n"
     ]
    }
   ],
   "source": [
    "df14=pd.merge(df13,df7,how='outer')\n",
    "print(df14.shape)"
   ]
  },
  {
   "cell_type": "code",
   "execution_count": 43,
   "id": "bb0e8df0",
   "metadata": {},
   "outputs": [
    {
     "name": "stdout",
     "output_type": "stream",
     "text": [
      "(16720, 8)\n"
     ]
    }
   ],
   "source": [
    "df15=pd.merge(df14,df8,how='outer')\n",
    "print(df15.shape)"
   ]
  },
  {
   "cell_type": "code",
   "execution_count": 44,
   "id": "e89655fd",
   "metadata": {},
   "outputs": [
    {
     "name": "stdout",
     "output_type": "stream",
     "text": [
      "(18785, 8)\n"
     ]
    }
   ],
   "source": [
    "df16=pd.merge(df15,d1,how='outer')\n",
    "print(df16.shape)"
   ]
  },
  {
   "cell_type": "code",
   "execution_count": 45,
   "id": "c8464e16",
   "metadata": {},
   "outputs": [
    {
     "name": "stdout",
     "output_type": "stream",
     "text": [
      "(19802, 8)\n"
     ]
    }
   ],
   "source": [
    "df17=pd.merge(df16,d2,how='outer')\n",
    "print(df17.shape)\n",
    "# print(df17)"
   ]
  },
  {
   "cell_type": "code",
   "execution_count": 46,
   "id": "d4069a9f",
   "metadata": {},
   "outputs": [
    {
     "name": "stdout",
     "output_type": "stream",
     "text": [
      "(21626, 8)\n"
     ]
    }
   ],
   "source": [
    "df18=pd.merge(df17,d3,how='outer')\n",
    "print(df18.shape)"
   ]
  },
  {
   "cell_type": "code",
   "execution_count": 47,
   "id": "3348cfbe",
   "metadata": {},
   "outputs": [
    {
     "name": "stdout",
     "output_type": "stream",
     "text": [
      "(23950, 8)\n"
     ]
    }
   ],
   "source": [
    "df19=pd.merge(df18,d4,how='outer')\n",
    "print(df19.shape)"
   ]
  },
  {
   "cell_type": "code",
   "execution_count": 49,
   "id": "155730b6",
   "metadata": {},
   "outputs": [
    {
     "name": "stdout",
     "output_type": "stream",
     "text": [
      "(23950, 8)\n"
     ]
    }
   ],
   "source": [
    "df20=pd.merge(df19,d6,how='outer')\n",
    "print(df20.shape)\n"
   ]
  },
  {
   "cell_type": "code",
   "execution_count": 50,
   "id": "cb403f76",
   "metadata": {},
   "outputs": [
    {
     "name": "stdout",
     "output_type": "stream",
     "text": [
      "(25988, 8)\n"
     ]
    }
   ],
   "source": [
    "df21=pd.merge(df20,d7,how='outer')\n",
    "print(df21.shape)"
   ]
  },
  {
   "cell_type": "code",
   "execution_count": 36,
   "id": "c8d8a7dd",
   "metadata": {},
   "outputs": [
    {
     "name": "stdout",
     "output_type": "stream",
     "text": [
      "(28300, 8)\n"
     ]
    }
   ],
   "source": [
    "df22=pd.merge(df21,d8,how='outer')\n",
    "print(df22.shape)"
   ]
  },
  {
   "cell_type": "code",
   "execution_count": 51,
   "id": "498a8b1e",
   "metadata": {},
   "outputs": [
    {
     "name": "stdout",
     "output_type": "stream",
     "text": [
      "(30476, 8)\n"
     ]
    }
   ],
   "source": [
    "df23=pd.merge(df22,d9,how='outer')\n",
    "print(df23.shape)"
   ]
  },
  {
   "cell_type": "code",
   "execution_count": 58,
   "id": "5ddfdb9d",
   "metadata": {},
   "outputs": [
    {
     "name": "stderr",
     "output_type": "stream",
     "text": [
      "C:\\Users\\Hp\\anaconda3\\lib\\site-packages\\pandas\\core\\reshape\\merge.py:1204: UserWarning: You are merging on int and float columns where the float values are not equal to their int representation\n",
      "  warnings.warn(\n"
     ]
    },
    {
     "ename": "ValueError",
     "evalue": "You are trying to merge on object and float64 columns. If you wish to proceed you should use pd.concat",
     "output_type": "error",
     "traceback": [
      "\u001b[1;31m---------------------------------------------------------------------------\u001b[0m",
      "\u001b[1;31mValueError\u001b[0m                                Traceback (most recent call last)",
      "\u001b[1;32m~\\AppData\\Local\\Temp/ipykernel_13268/3292906244.py\u001b[0m in \u001b[0;36m<module>\u001b[1;34m\u001b[0m\n\u001b[1;32m----> 1\u001b[1;33m \u001b[0mdf24\u001b[0m\u001b[1;33m=\u001b[0m\u001b[0mpd\u001b[0m\u001b[1;33m.\u001b[0m\u001b[0mmerge\u001b[0m\u001b[1;33m(\u001b[0m\u001b[0mdf23\u001b[0m\u001b[1;33m,\u001b[0m\u001b[0md10\u001b[0m\u001b[1;33m,\u001b[0m\u001b[0mhow\u001b[0m\u001b[1;33m=\u001b[0m\u001b[1;34m'outer'\u001b[0m\u001b[1;33m)\u001b[0m\u001b[1;33m\u001b[0m\u001b[1;33m\u001b[0m\u001b[0m\n\u001b[0m\u001b[0;32m      2\u001b[0m \u001b[0mprint\u001b[0m\u001b[1;33m(\u001b[0m\u001b[0mdf24\u001b[0m\u001b[1;33m.\u001b[0m\u001b[0mshape\u001b[0m\u001b[1;33m)\u001b[0m\u001b[1;33m\u001b[0m\u001b[1;33m\u001b[0m\u001b[0m\n",
      "\u001b[1;32m~\\anaconda3\\lib\\site-packages\\pandas\\core\\reshape\\merge.py\u001b[0m in \u001b[0;36mmerge\u001b[1;34m(left, right, how, on, left_on, right_on, left_index, right_index, sort, suffixes, copy, indicator, validate)\u001b[0m\n\u001b[0;32m    104\u001b[0m     \u001b[0mvalidate\u001b[0m\u001b[1;33m:\u001b[0m \u001b[0mstr\u001b[0m \u001b[1;33m|\u001b[0m \u001b[1;32mNone\u001b[0m \u001b[1;33m=\u001b[0m \u001b[1;32mNone\u001b[0m\u001b[1;33m,\u001b[0m\u001b[1;33m\u001b[0m\u001b[1;33m\u001b[0m\u001b[0m\n\u001b[0;32m    105\u001b[0m ) -> DataFrame:\n\u001b[1;32m--> 106\u001b[1;33m     op = _MergeOperation(\n\u001b[0m\u001b[0;32m    107\u001b[0m         \u001b[0mleft\u001b[0m\u001b[1;33m,\u001b[0m\u001b[1;33m\u001b[0m\u001b[1;33m\u001b[0m\u001b[0m\n\u001b[0;32m    108\u001b[0m         \u001b[0mright\u001b[0m\u001b[1;33m,\u001b[0m\u001b[1;33m\u001b[0m\u001b[1;33m\u001b[0m\u001b[0m\n",
      "\u001b[1;32m~\\anaconda3\\lib\\site-packages\\pandas\\core\\reshape\\merge.py\u001b[0m in \u001b[0;36m__init__\u001b[1;34m(self, left, right, how, on, left_on, right_on, axis, left_index, right_index, sort, suffixes, copy, indicator, validate)\u001b[0m\n\u001b[0;32m    701\u001b[0m         \u001b[1;31m# validate the merge keys dtypes. We may need to coerce\u001b[0m\u001b[1;33m\u001b[0m\u001b[1;33m\u001b[0m\u001b[0m\n\u001b[0;32m    702\u001b[0m         \u001b[1;31m# to avoid incompatible dtypes\u001b[0m\u001b[1;33m\u001b[0m\u001b[1;33m\u001b[0m\u001b[0m\n\u001b[1;32m--> 703\u001b[1;33m         \u001b[0mself\u001b[0m\u001b[1;33m.\u001b[0m\u001b[0m_maybe_coerce_merge_keys\u001b[0m\u001b[1;33m(\u001b[0m\u001b[1;33m)\u001b[0m\u001b[1;33m\u001b[0m\u001b[1;33m\u001b[0m\u001b[0m\n\u001b[0m\u001b[0;32m    704\u001b[0m \u001b[1;33m\u001b[0m\u001b[0m\n\u001b[0;32m    705\u001b[0m         \u001b[1;31m# If argument passed to validate,\u001b[0m\u001b[1;33m\u001b[0m\u001b[1;33m\u001b[0m\u001b[0m\n",
      "\u001b[1;32m~\\anaconda3\\lib\\site-packages\\pandas\\core\\reshape\\merge.py\u001b[0m in \u001b[0;36m_maybe_coerce_merge_keys\u001b[1;34m(self)\u001b[0m\n\u001b[0;32m   1254\u001b[0m                     \u001b[0minferred_right\u001b[0m \u001b[1;32min\u001b[0m \u001b[0mstring_types\u001b[0m \u001b[1;32mand\u001b[0m \u001b[0minferred_left\u001b[0m \u001b[1;32mnot\u001b[0m \u001b[1;32min\u001b[0m \u001b[0mstring_types\u001b[0m\u001b[1;33m\u001b[0m\u001b[1;33m\u001b[0m\u001b[0m\n\u001b[0;32m   1255\u001b[0m                 ):\n\u001b[1;32m-> 1256\u001b[1;33m                     \u001b[1;32mraise\u001b[0m \u001b[0mValueError\u001b[0m\u001b[1;33m(\u001b[0m\u001b[0mmsg\u001b[0m\u001b[1;33m)\u001b[0m\u001b[1;33m\u001b[0m\u001b[1;33m\u001b[0m\u001b[0m\n\u001b[0m\u001b[0;32m   1257\u001b[0m \u001b[1;33m\u001b[0m\u001b[0m\n\u001b[0;32m   1258\u001b[0m             \u001b[1;31m# datetimelikes must match exactly\u001b[0m\u001b[1;33m\u001b[0m\u001b[1;33m\u001b[0m\u001b[0m\n",
      "\u001b[1;31mValueError\u001b[0m: You are trying to merge on object and float64 columns. If you wish to proceed you should use pd.concat"
     ]
    }
   ],
   "source": [
    "df24=pd.merge(df23,d10,how='outer')\n",
    "print(df24.shape)"
   ]
  },
  {
   "cell_type": "code",
   "execution_count": null,
   "id": "93da63bc",
   "metadata": {},
   "outputs": [],
   "source": []
  }
 ],
 "metadata": {
  "kernelspec": {
   "display_name": "Python 3 (ipykernel)",
   "language": "python",
   "name": "python3"
  },
  "language_info": {
   "codemirror_mode": {
    "name": "ipython",
    "version": 3
   },
   "file_extension": ".py",
   "mimetype": "text/x-python",
   "name": "python",
   "nbconvert_exporter": "python",
   "pygments_lexer": "ipython3",
   "version": "3.9.7"
  }
 },
 "nbformat": 4,
 "nbformat_minor": 5
}
